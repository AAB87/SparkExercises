{
 "cells": [
  {
   "cell_type": "markdown",
   "metadata": {},
   "source": [
    "# Advanced task: Comparing RDDs vs dataframes"
   ]
  },
  {
   "cell_type": "markdown",
   "metadata": {},
   "source": [
    "**Author:** Alonso Andrade Blázquez"
   ]
  },
  {
   "cell_type": "markdown",
   "metadata": {},
   "source": [
    "This exercise is aimed at comparing the running time of two equivalent solutions in PySpark, one based on RDD and another on dataframe, to determine which is faster.\n",
    "\n",
    "Given the dataset of the crimes of Chicago (https://data.cityofchicago.org/Public-Safety/Crimes-2001-to-present/ijzp-q8t2), write two programs crimeRDDAnalysis.py and crimeDataframeAnalysis.py that have to count the number of crimes per location and print the first 10 pairs (location,  count) ordered by count. \n",
    "\n",
    "The deliverables of this exercise will be the program files and the a document containing the characteristics of the computer you have used and the times obtained when running the codes with 1, 2, 4, 8 and cores."
   ]
  },
  {
   "cell_type": "markdown",
   "metadata": {},
   "source": [
    "## Laptop features"
   ]
  },
  {
   "cell_type": "markdown",
   "metadata": {},
   "source": [
    "Laptop features:\n",
    "- Windows 10 Home\n",
    "- Processor Intel Core i7-4510U @ 2.00 GHz 2.60 GHz\n",
    "- 16,0 GB RAM\n",
    "- Spark 2.3.0\n",
    "- Java JDK 1.8.0_141"
   ]
  },
  {
   "cell_type": "markdown",
   "metadata": {},
   "source": [
    "## Data cleaning\n",
    "\n",
    "Modifying file separator from comma to tab. We should do this in order to avoid confusion when loading to a RDD mapping with comma separator (it will consider more columns than the correct ones if a field contains a comma inside)."
   ]
  },
  {
   "cell_type": "code",
   "execution_count": 1,
   "metadata": {
    "scrolled": false
   },
   "outputs": [
    {
     "data": {
      "text/html": [
       "<div>\n",
       "<style scoped>\n",
       "    .dataframe tbody tr th:only-of-type {\n",
       "        vertical-align: middle;\n",
       "    }\n",
       "\n",
       "    .dataframe tbody tr th {\n",
       "        vertical-align: top;\n",
       "    }\n",
       "\n",
       "    .dataframe thead th {\n",
       "        text-align: right;\n",
       "    }\n",
       "</style>\n",
       "<table border=\"1\" class=\"dataframe\">\n",
       "  <thead>\n",
       "    <tr style=\"text-align: right;\">\n",
       "      <th></th>\n",
       "      <th>ID</th>\n",
       "      <th>Case Number</th>\n",
       "      <th>Date</th>\n",
       "      <th>Block</th>\n",
       "      <th>IUCR</th>\n",
       "      <th>Primary Type</th>\n",
       "      <th>Description</th>\n",
       "      <th>Location Description</th>\n",
       "      <th>Arrest</th>\n",
       "      <th>Domestic</th>\n",
       "      <th>...</th>\n",
       "      <th>Ward</th>\n",
       "      <th>Community Area</th>\n",
       "      <th>FBI Code</th>\n",
       "      <th>X Coordinate</th>\n",
       "      <th>Y Coordinate</th>\n",
       "      <th>Year</th>\n",
       "      <th>Updated On</th>\n",
       "      <th>Latitude</th>\n",
       "      <th>Longitude</th>\n",
       "      <th>Location</th>\n",
       "    </tr>\n",
       "  </thead>\n",
       "  <tbody>\n",
       "    <tr>\n",
       "      <th>0</th>\n",
       "      <td>10000092</td>\n",
       "      <td>HY189866</td>\n",
       "      <td>03/18/2015 07:44:00 PM</td>\n",
       "      <td>047XX W OHIO ST</td>\n",
       "      <td>041A</td>\n",
       "      <td>BATTERY</td>\n",
       "      <td>AGGRAVATED: HANDGUN</td>\n",
       "      <td>STREET</td>\n",
       "      <td>False</td>\n",
       "      <td>False</td>\n",
       "      <td>...</td>\n",
       "      <td>28.0</td>\n",
       "      <td>25.0</td>\n",
       "      <td>04B</td>\n",
       "      <td>1144606.0</td>\n",
       "      <td>1903566.0</td>\n",
       "      <td>2015</td>\n",
       "      <td>02/10/2018 03:50:01 PM</td>\n",
       "      <td>41.891399</td>\n",
       "      <td>-87.744385</td>\n",
       "      <td>(41.891398861, -87.744384567)</td>\n",
       "    </tr>\n",
       "    <tr>\n",
       "      <th>1</th>\n",
       "      <td>10000094</td>\n",
       "      <td>HY190059</td>\n",
       "      <td>03/18/2015 11:00:00 PM</td>\n",
       "      <td>066XX S MARSHFIELD AVE</td>\n",
       "      <td>4625</td>\n",
       "      <td>OTHER OFFENSE</td>\n",
       "      <td>PAROLE VIOLATION</td>\n",
       "      <td>STREET</td>\n",
       "      <td>True</td>\n",
       "      <td>False</td>\n",
       "      <td>...</td>\n",
       "      <td>15.0</td>\n",
       "      <td>67.0</td>\n",
       "      <td>26</td>\n",
       "      <td>1166468.0</td>\n",
       "      <td>1860715.0</td>\n",
       "      <td>2015</td>\n",
       "      <td>02/10/2018 03:50:01 PM</td>\n",
       "      <td>41.773372</td>\n",
       "      <td>-87.665319</td>\n",
       "      <td>(41.773371528, -87.665319468)</td>\n",
       "    </tr>\n",
       "  </tbody>\n",
       "</table>\n",
       "<p>2 rows × 22 columns</p>\n",
       "</div>"
      ],
      "text/plain": [
       "         ID Case Number                    Date                   Block  IUCR  \\\n",
       "0  10000092    HY189866  03/18/2015 07:44:00 PM         047XX W OHIO ST  041A   \n",
       "1  10000094    HY190059  03/18/2015 11:00:00 PM  066XX S MARSHFIELD AVE  4625   \n",
       "\n",
       "    Primary Type          Description Location Description  Arrest  Domestic  \\\n",
       "0        BATTERY  AGGRAVATED: HANDGUN               STREET   False     False   \n",
       "1  OTHER OFFENSE     PAROLE VIOLATION               STREET    True     False   \n",
       "\n",
       "               ...                Ward  Community Area  FBI Code  \\\n",
       "0              ...                28.0            25.0       04B   \n",
       "1              ...                15.0            67.0        26   \n",
       "\n",
       "   X Coordinate Y Coordinate  Year              Updated On   Latitude  \\\n",
       "0     1144606.0    1903566.0  2015  02/10/2018 03:50:01 PM  41.891399   \n",
       "1     1166468.0    1860715.0  2015  02/10/2018 03:50:01 PM  41.773372   \n",
       "\n",
       "   Longitude                       Location  \n",
       "0 -87.744385  (41.891398861, -87.744384567)  \n",
       "1 -87.665319  (41.773371528, -87.665319468)  \n",
       "\n",
       "[2 rows x 22 columns]"
      ]
     },
     "metadata": {},
     "output_type": "display_data"
    }
   ],
   "source": [
    "import pandas as pd\n",
    "\n",
    "pandas_df = pd.read_csv('Crimes_-_2001_to_present.csv')\n",
    "display(pandas_df.head(2))\n",
    "pandas_df.to_csv('Crimes_-_2001_to_present.tsv', sep='\\t')"
   ]
  },
  {
   "cell_type": "markdown",
   "metadata": {},
   "source": [
    "## Solution with Spark RDD"
   ]
  },
  {
   "cell_type": "code",
   "execution_count": 2,
   "metadata": {},
   "outputs": [],
   "source": [
    "import time\n",
    "from pyspark import SparkConf, SparkContext"
   ]
  },
  {
   "cell_type": "code",
   "execution_count": 3,
   "metadata": {},
   "outputs": [],
   "source": [
    "def count_crime_location_descriptions_RDD(file_name: str, number_of_threads: str) -> None:\n",
    "    \n",
    "    spark_conf = SparkConf().setMaster(number_of_threads)\n",
    "    spark_context = SparkContext(conf=spark_conf)\n",
    "\n",
    "    logger = spark_context._jvm.org.apache.log4j\n",
    "    logger.LogManager.getLogger(\"org\").setLevel(logger.Level.WARN)\n",
    "    \n",
    "    start_computing_time = time.time()\n",
    "    \n",
    "    # Load file\n",
    "    crimes_file = spark_context.textFile(file_name)\n",
    "    \n",
    "    header = crimes_file.first()\n",
    "    \n",
    "    crimes_location_count = crimes_file \\\n",
    "        .filter(lambda line: header not in line) \\\n",
    "        .map(lambda line: line.split('\\t')[8]) \\\n",
    "        .map(lambda location_description: (location_description, 1)) \\\n",
    "        .reduceByKey(lambda a, b: a + b)\\\n",
    "        .map(lambda pair: (pair[1], pair[0])) \\\n",
    "        .sortByKey(False) \\\n",
    "        .take(10) \\\n",
    "        \n",
    "    total_computing_time = time.time() - start_computing_time\n",
    "    \n",
    "    print(\"Crimes count of the different types of locations\")\n",
    "    \n",
    "    for (location_description, count) in crimes_location_count:\n",
    "        print(location_description, count)\n",
    "        \n",
    "    print(\"\\nComputing time with \", number_of_threads, \": \", str(total_computing_time))\n",
    "\n",
    "    spark_context.stop()"
   ]
  },
  {
   "cell_type": "code",
   "execution_count": 4,
   "metadata": {},
   "outputs": [
    {
     "name": "stdout",
     "output_type": "stream",
     "text": [
      "Crimes count of the different types of locations\n",
      "1732048 STREET\n",
      "1113617 RESIDENCE\n",
      "675585 APARTMENT\n",
      "650510 SIDEWALK\n",
      "249276 OTHER\n",
      "188765 PARKING LOT/GARAGE(NON.RESID.)\n",
      "147384 ALLEY\n",
      "140283 SCHOOL, PUBLIC, BUILDING\n",
      "128880 RESIDENCE-GARAGE\n",
      "114931 RESIDENCE PORCH/HALLWAY\n",
      "\n",
      "Computing time with  local[1] :  569.3139615058899\n"
     ]
    }
   ],
   "source": [
    "count_crime_location_descriptions_RDD(\"Crimes_-_2001_to_present.tsv\", \"local[1]\")"
   ]
  },
  {
   "cell_type": "code",
   "execution_count": 5,
   "metadata": {},
   "outputs": [
    {
     "name": "stdout",
     "output_type": "stream",
     "text": [
      "Crimes count of the different types of locations\n",
      "1732048 STREET\n",
      "1113617 RESIDENCE\n",
      "675585 APARTMENT\n",
      "650510 SIDEWALK\n",
      "249276 OTHER\n",
      "188765 PARKING LOT/GARAGE(NON.RESID.)\n",
      "147384 ALLEY\n",
      "140283 SCHOOL, PUBLIC, BUILDING\n",
      "128880 RESIDENCE-GARAGE\n",
      "114931 RESIDENCE PORCH/HALLWAY\n",
      "\n",
      "Computing time with  local[2] :  413.1733124256134\n"
     ]
    }
   ],
   "source": [
    "count_crime_location_descriptions_RDD(\"Crimes_-_2001_to_present.tsv\", \"local[2]\")"
   ]
  },
  {
   "cell_type": "code",
   "execution_count": 6,
   "metadata": {},
   "outputs": [
    {
     "name": "stdout",
     "output_type": "stream",
     "text": [
      "Crimes count of the different types of locations\n",
      "1732048 STREET\n",
      "1113617 RESIDENCE\n",
      "675585 APARTMENT\n",
      "650510 SIDEWALK\n",
      "249276 OTHER\n",
      "188765 PARKING LOT/GARAGE(NON.RESID.)\n",
      "147384 ALLEY\n",
      "140283 SCHOOL, PUBLIC, BUILDING\n",
      "128880 RESIDENCE-GARAGE\n",
      "114931 RESIDENCE PORCH/HALLWAY\n",
      "\n",
      "Computing time with  local[4] :  339.36436462402344\n"
     ]
    }
   ],
   "source": [
    "count_crime_location_descriptions_RDD(\"Crimes_-_2001_to_present.tsv\", \"local[4]\")"
   ]
  },
  {
   "cell_type": "code",
   "execution_count": 7,
   "metadata": {},
   "outputs": [
    {
     "name": "stdout",
     "output_type": "stream",
     "text": [
      "Crimes count of the different types of locations\n",
      "1732048 STREET\n",
      "1113617 RESIDENCE\n",
      "675585 APARTMENT\n",
      "650510 SIDEWALK\n",
      "249276 OTHER\n",
      "188765 PARKING LOT/GARAGE(NON.RESID.)\n",
      "147384 ALLEY\n",
      "140283 SCHOOL, PUBLIC, BUILDING\n",
      "128880 RESIDENCE-GARAGE\n",
      "114931 RESIDENCE PORCH/HALLWAY\n",
      "\n",
      "Computing time with  local[8] :  337.79659962654114\n"
     ]
    }
   ],
   "source": [
    "count_crime_location_descriptions_RDD(\"Crimes_-_2001_to_present.tsv\", \"local[8]\")"
   ]
  },
  {
   "cell_type": "markdown",
   "metadata": {},
   "source": [
    "## Solution with Spark Dataframes"
   ]
  },
  {
   "cell_type": "code",
   "execution_count": 26,
   "metadata": {},
   "outputs": [],
   "source": [
    "from pyspark.sql import SparkSession"
   ]
  },
  {
   "cell_type": "code",
   "execution_count": 37,
   "metadata": {},
   "outputs": [],
   "source": [
    "def count_crime_location_descriptions_DataFrame(file_name: str, number_of_threads: str) -> None:    \n",
    "    spark_session = SparkSession \\\n",
    "        .builder \\\n",
    "        .master(number_of_threads) \\\n",
    "        .getOrCreate()\n",
    "    \n",
    "    start_computing_time = time.time()\n",
    "\n",
    "    # Load tsv file\n",
    "    crimes_df = spark_session\\\n",
    "        .read \\\n",
    "        .format(\"csv\") \\\n",
    "        .option(\"header\", \"true\") \\\n",
    "        .option(\"delimiter\", \"\\t\") \\\n",
    "        .load(file_name)\n",
    "    \n",
    "    # Retrieve location descriptions count by using a temporary view\n",
    "    crimes_df.createOrReplaceTempView(\"chicago_crimes\")\n",
    "\n",
    "    sql_locations_count = spark_session.sql(\"SELECT COUNT(`Location Description`) AS `Number of crimes`, \\\n",
    "                                            `Location Description` \\\n",
    "                                            FROM chicago_crimes \\\n",
    "                                            GROUP BY `Location Description` \\\n",
    "                                            ORDER BY COUNT (`Location Description`) DESC \\\n",
    "                                            LIMIT 10\")\n",
    "    \n",
    "    print(\"Crimes count of the different types of locations\")\n",
    "    sql_locations_count.show(truncate=False)\n",
    "    \n",
    "    total_computing_time = time.time() - start_computing_time\n",
    "        \n",
    "    print(\"\\nComputing time with \", number_of_threads, \": \", str(total_computing_time))\n",
    "    \n",
    "    spark_session.stop()"
   ]
  },
  {
   "cell_type": "code",
   "execution_count": 38,
   "metadata": {},
   "outputs": [
    {
     "name": "stdout",
     "output_type": "stream",
     "text": [
      "Crimes count of the different types of locations\n",
      "+----------------+------------------------------+\n",
      "|Number of crimes|Location Description          |\n",
      "+----------------+------------------------------+\n",
      "|1732048         |STREET                        |\n",
      "|1113617         |RESIDENCE                     |\n",
      "|675585          |APARTMENT                     |\n",
      "|650510          |SIDEWALK                      |\n",
      "|249276          |OTHER                         |\n",
      "|188765          |PARKING LOT/GARAGE(NON.RESID.)|\n",
      "|147384          |ALLEY                         |\n",
      "|140283          |SCHOOL, PUBLIC, BUILDING      |\n",
      "|128880          |RESIDENCE-GARAGE              |\n",
      "|114931          |RESIDENCE PORCH/HALLWAY       |\n",
      "+----------------+------------------------------+\n",
      "\n",
      "\n",
      "Computing time with  local[1] :  178.44208574295044\n"
     ]
    }
   ],
   "source": [
    "count_crime_location_descriptions_DataFrame(\"Crimes_-_2001_to_present.tsv\", \"local[1]\")"
   ]
  },
  {
   "cell_type": "code",
   "execution_count": 39,
   "metadata": {},
   "outputs": [
    {
     "name": "stdout",
     "output_type": "stream",
     "text": [
      "Crimes count of the different types of locations\n",
      "+----------------+------------------------------+\n",
      "|Number of crimes|Location Description          |\n",
      "+----------------+------------------------------+\n",
      "|1732048         |STREET                        |\n",
      "|1113617         |RESIDENCE                     |\n",
      "|675585          |APARTMENT                     |\n",
      "|650510          |SIDEWALK                      |\n",
      "|249276          |OTHER                         |\n",
      "|188765          |PARKING LOT/GARAGE(NON.RESID.)|\n",
      "|147384          |ALLEY                         |\n",
      "|140283          |SCHOOL, PUBLIC, BUILDING      |\n",
      "|128880          |RESIDENCE-GARAGE              |\n",
      "|114931          |RESIDENCE PORCH/HALLWAY       |\n",
      "+----------------+------------------------------+\n",
      "\n",
      "\n",
      "Computing time with  local[2] :  43.52302169799805\n"
     ]
    }
   ],
   "source": [
    "count_crime_location_descriptions_DataFrame(\"Crimes_-_2001_to_present.tsv\", \"local[2]\")"
   ]
  },
  {
   "cell_type": "code",
   "execution_count": 40,
   "metadata": {},
   "outputs": [
    {
     "name": "stdout",
     "output_type": "stream",
     "text": [
      "Crimes count of the different types of locations\n",
      "+----------------+------------------------------+\n",
      "|Number of crimes|Location Description          |\n",
      "+----------------+------------------------------+\n",
      "|1732048         |STREET                        |\n",
      "|1113617         |RESIDENCE                     |\n",
      "|675585          |APARTMENT                     |\n",
      "|650510          |SIDEWALK                      |\n",
      "|249276          |OTHER                         |\n",
      "|188765          |PARKING LOT/GARAGE(NON.RESID.)|\n",
      "|147384          |ALLEY                         |\n",
      "|140283          |SCHOOL, PUBLIC, BUILDING      |\n",
      "|128880          |RESIDENCE-GARAGE              |\n",
      "|114931          |RESIDENCE PORCH/HALLWAY       |\n",
      "+----------------+------------------------------+\n",
      "\n",
      "\n",
      "Computing time with  local[4] :  21.1430242061615\n"
     ]
    }
   ],
   "source": [
    "count_crime_location_descriptions_DataFrame(\"Crimes_-_2001_to_present.tsv\", \"local[4]\")"
   ]
  },
  {
   "cell_type": "code",
   "execution_count": 41,
   "metadata": {},
   "outputs": [
    {
     "name": "stdout",
     "output_type": "stream",
     "text": [
      "Crimes count of the different types of locations\n",
      "+----------------+------------------------------+\n",
      "|Number of crimes|Location Description          |\n",
      "+----------------+------------------------------+\n",
      "|1732048         |STREET                        |\n",
      "|1113617         |RESIDENCE                     |\n",
      "|675585          |APARTMENT                     |\n",
      "|650510          |SIDEWALK                      |\n",
      "|249276          |OTHER                         |\n",
      "|188765          |PARKING LOT/GARAGE(NON.RESID.)|\n",
      "|147384          |ALLEY                         |\n",
      "|140283          |SCHOOL, PUBLIC, BUILDING      |\n",
      "|128880          |RESIDENCE-GARAGE              |\n",
      "|114931          |RESIDENCE PORCH/HALLWAY       |\n",
      "+----------------+------------------------------+\n",
      "\n",
      "\n",
      "Computing time with  local[8] :  23.687837839126587\n"
     ]
    }
   ],
   "source": [
    "count_crime_location_descriptions_DataFrame(\"Crimes_-_2001_to_present.tsv\", \"local[8]\")"
   ]
  },
  {
   "cell_type": "markdown",
   "metadata": {},
   "source": [
    "### Conclusions"
   ]
  },
  {
   "cell_type": "markdown",
   "metadata": {},
   "source": [
    "We can see above that using Spark SQL (Dataframes) computing time is much lower (with a minimum of around 20 seconds) than using Spark RDD, for any thread configuration."
   ]
  }
 ],
 "metadata": {
  "kernelspec": {
   "display_name": "Python 3",
   "language": "python",
   "name": "python3"
  },
  "language_info": {
   "codemirror_mode": {
    "name": "ipython",
    "version": 3
   },
   "file_extension": ".py",
   "mimetype": "text/x-python",
   "name": "python",
   "nbconvert_exporter": "python",
   "pygments_lexer": "ipython3",
   "version": "3.6.4"
  }
 },
 "nbformat": 4,
 "nbformat_minor": 2
}
